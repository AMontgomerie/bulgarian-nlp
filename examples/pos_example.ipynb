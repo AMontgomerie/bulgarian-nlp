{
  "cells": [
    {
      "cell_type": "markdown",
      "metadata": {
        "id": "imWdjegG-qgK"
      },
      "source": [
        "# Part of speech tagging example"
      ]
    },
    {
      "cell_type": "code",
      "execution_count": 2,
      "metadata": {
        "colab": {
          "base_uri": "https://localhost:8080/"
        },
        "id": "-Vd50hQd-U_C",
        "outputId": "ef38f6a0-a32b-4932-f03e-51cedfd01f7c"
      },
      "outputs": [
        {
          "name": "stdout",
          "output_type": "stream",
          "text": [
            "Cloning into 'bulgarian-nlp'...\n",
            "remote: Enumerating objects: 141, done.\u001b[K\n",
            "remote: Counting objects: 100% (141/141), done.\u001b[K\n",
            "remote: Compressing objects: 100% (126/126), done.\u001b[K\n",
            "remote: Total 141 (delta 62), reused 9 (delta 2), pack-reused 0\u001b[K\n",
            "Receiving objects: 100% (141/141), 70.39 KiB | 6.40 MiB/s, done.\n",
            "Resolving deltas: 100% (62/62), done.\n",
            "/content/bulgarian-nlp\n"
          ]
        }
      ],
      "source": [
        "%pip install transformers==4.17.0 -qq\n",
        "!git clone https://github.com/AMontgomerie/bulgarian-nlp\n",
        "%cd bulgarian-nlp"
      ]
    },
    {
      "cell_type": "markdown",
      "metadata": {
        "id": "ehf9j1CG-wB0"
      },
      "source": [
        "First let's initialise the part of speech tagger."
      ]
    },
    {
      "cell_type": "code",
      "execution_count": 4,
      "metadata": {
        "id": "nIRVSEKj-9Ku"
      },
      "outputs": [],
      "source": [
        "from annotation.taggers import POSTagger\n",
        "\n",
        "pos_tagger = POSTagger()"
      ]
    },
    {
      "cell_type": "markdown",
      "metadata": {
        "id": "4eK2tQkI_GSS"
      },
      "source": [
        "Next we are going to create some example sentences and generate tags for them."
      ]
    },
    {
      "cell_type": "code",
      "execution_count": 5,
      "metadata": {
        "colab": {
          "base_uri": "https://localhost:8080/"
        },
        "id": "-87Hv9i4-VgV",
        "outputId": "8705ee1d-955a-488e-9eda-bf016f19b020"
      },
      "outputs": [
        {
          "name": "stdout",
          "output_type": "stream",
          "text": [
            "Да не би да съм закъснял?\n",
            "['AUX', 'PART', 'AUX', 'AUX', 'AUX', 'VERB', 'PUNCT']\n",
            "Ти да не оглуша?\n",
            "['PRON', 'AUX', 'PART', 'VERB', 'PUNCT']\n",
            "Дощя му се под покрив да живее.\n",
            "['VERB', 'PRON', 'PRON', 'ADP', 'NOUN', 'AUX', 'VERB', 'PUNCT']\n",
            "Донесете от кухнята чаша вода.\n",
            "['VERB', 'ADP', 'NOUN', 'NOUN', 'NOUN', 'PUNCT']\n",
            "Писал е доста повести и драми.\n",
            "['VERB', 'AUX', 'ADV', 'ADJ', 'CCONJ', 'NOUN', 'PUNCT']\n"
          ]
        }
      ],
      "source": [
        "sentences = [\n",
        "    'Да не би да съм закъснял?', \n",
        "    'Ти да не оглуша?', \n",
        "    'Дощя му се под покрив да живее.', \n",
        "    'Донесете от кухнята чаша вода.', \n",
        "    'Писал е доста повести и драми.'\n",
        "]\n",
        "\n",
        "for sentence in sentences:\n",
        "    print(sentence)\n",
        "    predicted_tags = pos_tagger.generate_tags(sentence)\n",
        "    print(predicted_tags)"
      ]
    },
    {
      "cell_type": "markdown",
      "metadata": {
        "id": "VDJjWOso_wyO"
      },
      "source": [
        "The tagger generates a list of tags for each sentence. For more information about the meanings of the POS tags, see https://universaldependencies.org/u/pos/"
      ]
    },
    {
      "cell_type": "code",
      "execution_count": null,
      "metadata": {
        "id": "TU5ArXYr_0FS"
      },
      "outputs": [],
      "source": []
    }
  ],
  "metadata": {
    "colab": {
      "name": "bg_pos_example.ipynb",
      "provenance": []
    },
    "kernelspec": {
      "display_name": "Python 3",
      "name": "python3"
    }
  },
  "nbformat": 4,
  "nbformat_minor": 0
}
